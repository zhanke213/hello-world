{
 "cells": [
  {
   "cell_type": "markdown",
   "metadata": {},
   "source": [
    "DAY 1 work Kickstarter Projects"
   ]
  },
  {
   "cell_type": "markdown",
   "metadata": {},
   "source": [
    "■ PYTHONによる多変量分析の試し  \n",
    "　分析対象：ガソリン消耗量の予測  \n",
    "　ソース：https://www.kaggle.com/anderas/car-consume  \n",
    "\n",
    "■ KAGGLEからDLしたデータを解析  \n",
    "1. 分析対象：1OOKMあたりのガソリン消費量の予測  \n",
    "2. 100KMあたりのガソリンの消費量を影響し得るファクタ：  \n",
    "(1) 走行距離  \n",
    "(2) 走行速度  \n",
    "(3) 車内温度  \n",
    "(4) 車外温度  \n",
    "(5) 特記事項※  \n",
    "(6) ガソリンのタイプ  \n",
    "(7) 空調使用有無  \n",
    "(8) 雨天有無  \n",
    "(9) 晴天有無  \n",
    "(10)ガソリンの追加有無  \n",
    "(11)ガソリンの追加タイプ  \n",
    "※後に記入  \n",
    "\n",
    "■ 分析の仕方\n",
    "1. 外れ値を判断(外れ値の判断は書き込む段階ではされていないため、全ファクタを記入)   \n",
    "　例：ガソリンの追加有無、追加タイプについて外れ値であるかどうかを判断  \n",
    " \n",
    "2. 各ファクタとガソリン消費量に関連性があると仮定し、各ファクタとガソリン消費量の相関関係を測定  \n",
    "　例：ガソリンのタイプによって消費用が変化すると仮定し、相関関係を調査  \n",
    " \n",
    "3. ファクタに２つのグループが分けられてると仮定し、２グループに対して多変量分析を実施  \n",
    "    Group1: 数値グループ  \n",
    "    　走行距離、走行速度、車内温度、車外温度  \n",
    "    Group2: 条件グループ   \n",
    "　　　特記事項、ガソリンのタイプ、空調使用有無、雨天有無、晴天有無、ガソリンの追加有無、ガソリンの追加タイプ  \n",
    "\n",
    "4. 分析の手順  \n",
    "(1)Group1  \n",
    "　Group1の４つのファクタによるガソリン消費量の分析を実施  \n",
    "(2)Group1&Group2  \n",
    "  Group2の条件あるなしによる、Group1４つのファクタによるガソリン消費量の分析を実施（単一条件/複数(全)条件）  \n",
    "(3)主成分分析  \n",
    " 数多くファクタの中から、主にガソリン消費量を影響するファクタを探索  \n",
    " \n",
    "■ Pythonによる実施の方法\n",
    "1. パラメータ定義  \n",
    "2. データ導入  \n",
    "3. データ検証(数値、グラフ)  \n",
    "4. レポート生成  \n",
    " "
   ]
  },
  {
   "cell_type": "code",
   "execution_count": null,
   "metadata": {
    "collapsed": true
   },
   "outputs": [],
   "source": [
    "#パラメータ定義\n"
   ]
  }
 ],
 "metadata": {
  "kernelspec": {
   "display_name": "Python 3",
   "language": "python",
   "name": "python3"
  },
  "language_info": {
   "codemirror_mode": {
    "name": "ipython",
    "version": 3
   },
   "file_extension": ".py",
   "mimetype": "text/x-python",
   "name": "python",
   "nbconvert_exporter": "python",
   "pygments_lexer": "ipython3",
   "version": "3.6.3"
  }
 },
 "nbformat": 4,
 "nbformat_minor": 2
}
